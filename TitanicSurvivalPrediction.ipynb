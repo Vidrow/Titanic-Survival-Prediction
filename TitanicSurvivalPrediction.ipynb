{
  "nbformat": 4,
  "nbformat_minor": 0,
  "metadata": {
    "colab": {
      "name": "TitanicSurvivalPrediction.ipynb",
      "provenance": [],
      "collapsed_sections": []
    },
    "kernelspec": {
      "name": "python3",
      "display_name": "Python 3"
    },
    "language_info": {
      "name": "python"
    }
  },
  "cells": [
    {
      "cell_type": "markdown",
      "source": [
        "**Note :** This whole model building process is through sklearn pipeline.This is a very good beginning if you would like to know how in real world models are build.Refer sklearn documentation while working with ColumnTransformer and Sklearn Pipeline if you are not familiar with it already.<br>\n",
        "<br>\n",
        "To keep this notebook clear I have not included any Exploratory data analysis part or any fancy plot. You can do plotting and mess with the data as per your wish.<br>\n",
        "\n",
        "The preprocessed data is pickled and povided here."
      ],
      "metadata": {
        "id": "N3V9pwq_kDYS"
      }
    },
    {
      "cell_type": "markdown",
      "source": [
        "Imports"
      ],
      "metadata": {
        "id": "AL9A1O3ThLyy"
      }
    },
    {
      "cell_type": "code",
      "execution_count": 126,
      "metadata": {
        "id": "8y7an5uw5JlO"
      },
      "outputs": [],
      "source": [
        "import pandas as pd \n",
        "import numpy as np\n",
        "import pickle\n",
        "from sklearn.model_selection import train_test_split\n",
        "from sklearn.compose import ColumnTransformer\n",
        "from sklearn.impute import SimpleImputer\n",
        "from sklearn.preprocessing import OneHotEncoder\n",
        "from sklearn.pipeline import Pipeline,make_pipeline\n",
        "from sklearn.metrics import accuracy_score"
      ]
    },
    {
      "cell_type": "markdown",
      "source": [
        "Imports for model"
      ],
      "metadata": {
        "id": "TgG1qm3NhInK"
      }
    },
    {
      "cell_type": "code",
      "source": [
        "from sklearn.tree import DecisionTreeClassifier\n",
        "from sklearn.linear_model import LogisticRegression\n",
        "from sklearn.ensemble import RandomForestClassifier\n",
        "DT = DecisionTreeClassifier()\n",
        "RF = RandomForestClassifier()\n",
        "LR = LogisticRegression()"
      ],
      "metadata": {
        "id": "QjxseYi0r8Pq"
      },
      "execution_count": 127,
      "outputs": []
    },
    {
      "cell_type": "markdown",
      "source": [
        "Imports for feature scaling"
      ],
      "metadata": {
        "id": "Xpk9C0vAhWrU"
      }
    },
    {
      "cell_type": "code",
      "source": [
        "from sklearn.preprocessing import MinMaxScaler\n",
        "minmaxscaler = MinMaxScaler()"
      ],
      "metadata": {
        "id": "pJXq-9ObQoNa"
      },
      "execution_count": 128,
      "outputs": []
    },
    {
      "cell_type": "markdown",
      "source": [
        "Imports for feature selection"
      ],
      "metadata": {
        "id": "XzAwnDq8hbEt"
      }
    },
    {
      "cell_type": "code",
      "source": [
        "from sklearn.feature_selection import SelectKBest,chi2"
      ],
      "metadata": {
        "id": "uVBpjJjRbLyA"
      },
      "execution_count": 130,
      "outputs": []
    },
    {
      "cell_type": "code",
      "source": [
        "#Display Pipeline\n",
        "from sklearn import set_config\n",
        "set_config(display='diagram')"
      ],
      "metadata": {
        "id": "k_qCJHHDFA3L"
      },
      "execution_count": 129,
      "outputs": []
    },
    {
      "cell_type": "markdown",
      "source": [
        "*IMPORT DATA*"
      ],
      "metadata": {
        "id": "Lf7gcenVpWyT"
      }
    },
    {
      "cell_type": "code",
      "source": [
        "train = pickle.load(open(\"TRAIN.pkl\",\"rb\"))\n",
        "test = pickle.load(open(\"TEST.pkl\",\"rb\"))\n",
        "passengerId = pickle.load(open(\"passengerId.pkl\",\"rb\"))"
      ],
      "metadata": {
        "id": "mh-DDtEF-QkH"
      },
      "execution_count": 131,
      "outputs": []
    },
    {
      "cell_type": "markdown",
      "source": [
        "*Handling Outliers*"
      ],
      "metadata": {
        "id": "tcmCnec6C7N6"
      }
    },
    {
      "cell_type": "markdown",
      "source": [
        "Age Column"
      ],
      "metadata": {
        "id": "Fnh8K77LJP_l"
      }
    },
    {
      "cell_type": "markdown",
      "source": [
        "Conclusion after visualisation<br>\n",
        "Age column - little skewed and normal distributed<br>\n",
        "Fare column - highly skewed distribution<br>\n",
        "Both of the column contains outlier\n"
      ],
      "metadata": {
        "id": "je4hOeR9hld9"
      }
    },
    {
      "cell_type": "markdown",
      "source": [
        "*Outlier handling using IQR technique*"
      ],
      "metadata": {
        "id": "Adzx2YS5iK2A"
      }
    },
    {
      "cell_type": "code",
      "source": [
        "# Finding the IQR\n",
        "percentile25 = train['Age'].quantile(0.25)\n",
        "percentile75 = train['Age'].quantile(0.75)\n",
        "iqr = percentile75 - percentile25\n",
        "#Limit for age\n",
        "High_for_age = percentile75 + 1.5 * iqr\n",
        "Low_for_age = percentile25 - 1.5 * iqr"
      ],
      "metadata": {
        "id": "90UaaJV7DSDw"
      },
      "execution_count": 106,
      "outputs": []
    },
    {
      "cell_type": "code",
      "source": [
        "#For train data\n",
        "train1 = train.copy()\n",
        "\n",
        "train1['Age'] = np.where(\n",
        "    train1['Age'] > High_for_age,\n",
        "    High_for_age,\n",
        "    np.where(\n",
        "        train1['Age'] < Low_for_age,\n",
        "        Low_for_age,\n",
        "        train1['Age']\n",
        "    )\n",
        ")"
      ],
      "metadata": {
        "id": "tzhUfE3aPvDZ"
      },
      "execution_count": 107,
      "outputs": []
    },
    {
      "cell_type": "code",
      "source": [
        "#For test data\n",
        "test1 = test.copy()\n",
        "\n",
        "test1['Age'] = np.where(\n",
        "    test1['Age'] > High_for_age,\n",
        "    High_for_age,\n",
        "    np.where(\n",
        "        test1['Age'] < Low_for_age,\n",
        "        Low_for_age,\n",
        "        test1['Age']\n",
        "    )\n",
        ")"
      ],
      "metadata": {
        "id": "ChudXmRbQd69"
      },
      "execution_count": 108,
      "outputs": []
    },
    {
      "cell_type": "markdown",
      "source": [
        "Fare Column"
      ],
      "metadata": {
        "id": "A7cHnqx0JUkP"
      }
    },
    {
      "cell_type": "code",
      "source": [
        "# Finding the IQR\n",
        "percentile25 = train['Fare'].quantile(0.25)\n",
        "percentile75 = train['Fare'].quantile(0.75)\n",
        "iqr = percentile75 - percentile25\n",
        "#Limit for fare\n",
        "upper_limit = percentile75 + 1.5 * iqr\n",
        "lower_limit = percentile25 - 1.5 * iqr"
      ],
      "metadata": {
        "id": "fnNedGo7_Vcx"
      },
      "execution_count": 109,
      "outputs": []
    },
    {
      "cell_type": "code",
      "source": [
        "train2 = train1.copy()\n",
        "\n",
        "train2['Fare'] = np.where(\n",
        "    train2['Fare'] > upper_limit,\n",
        "    upper_limit,\n",
        "    np.where(\n",
        "        train2['Fare'] < lower_limit,\n",
        "        lower_limit,\n",
        "        train2['Fare']\n",
        "    )\n",
        ")"
      ],
      "metadata": {
        "id": "vYRYDN2yL7Xu"
      },
      "execution_count": 110,
      "outputs": []
    },
    {
      "cell_type": "code",
      "source": [
        "test2 = test1.copy()\n",
        "\n",
        "test2['Fare'] = np.where(\n",
        "    test2['Fare'] > upper_limit,\n",
        "    upper_limit,\n",
        "    np.where(\n",
        "        test2['Fare'] < lower_limit,\n",
        "        lower_limit,\n",
        "        test2['Fare']\n",
        "    )\n",
        ")"
      ],
      "metadata": {
        "id": "pLqLSBlARK8Y"
      },
      "execution_count": 111,
      "outputs": []
    },
    {
      "cell_type": "markdown",
      "source": [
        "Performing train test split"
      ],
      "metadata": {
        "id": "uVl6GRfaiT2i"
      }
    },
    {
      "cell_type": "code",
      "source": [
        "X_train,X_test,y_train,y_test = train_test_split(train.drop(columns=[\"Survived\"]),train[\"Survived\"],test_size=0.2,random_state=20)"
      ],
      "metadata": {
        "id": "8nDi4GQ2-fBe"
      },
      "execution_count": 132,
      "outputs": []
    },
    {
      "cell_type": "code",
      "source": [
        "X_train"
      ],
      "metadata": {
        "colab": {
          "base_uri": "https://localhost:8080/",
          "height": 424
        },
        "id": "D4oJSvRVCpow",
        "outputId": "05707c98-b9a1-4e16-e297-d17e8ecad2b2"
      },
      "execution_count": 133,
      "outputs": [
        {
          "output_type": "execute_result",
          "data": {
            "text/plain": [
              "     Pclass     Sex   Age     Fare Embarked  FamilySize NameTitle  Cabin\n",
              "811       3    male  39.0  24.1500        S           1        Mr      0\n",
              "29        3    male   NaN   7.8958        S           1        Mr      0\n",
              "49        3  female  18.0  17.8000        S           2       Mrs      0\n",
              "105       3    male  28.0   7.8958        S           1        Mr      0\n",
              "616       3    male  34.0  14.4000        S           3        Mr      0\n",
              "..      ...     ...   ...      ...      ...         ...       ...    ...\n",
              "218       1  female  32.0  76.2917        C           1      Miss      1\n",
              "223       3    male   NaN   7.8958        S           1        Mr      0\n",
              "271       3    male  25.0   0.0000        S           1        Mr      0\n",
              "474       3  female  22.0   9.8375        S           1      Miss      0\n",
              "355       3    male  28.0   9.5000        S           1        Mr      0\n",
              "\n",
              "[712 rows x 8 columns]"
            ],
            "text/html": [
              "\n",
              "  <div id=\"df-d8c802e3-81f2-4562-9ca4-00ba6022aff3\">\n",
              "    <div class=\"colab-df-container\">\n",
              "      <div>\n",
              "<style scoped>\n",
              "    .dataframe tbody tr th:only-of-type {\n",
              "        vertical-align: middle;\n",
              "    }\n",
              "\n",
              "    .dataframe tbody tr th {\n",
              "        vertical-align: top;\n",
              "    }\n",
              "\n",
              "    .dataframe thead th {\n",
              "        text-align: right;\n",
              "    }\n",
              "</style>\n",
              "<table border=\"1\" class=\"dataframe\">\n",
              "  <thead>\n",
              "    <tr style=\"text-align: right;\">\n",
              "      <th></th>\n",
              "      <th>Pclass</th>\n",
              "      <th>Sex</th>\n",
              "      <th>Age</th>\n",
              "      <th>Fare</th>\n",
              "      <th>Embarked</th>\n",
              "      <th>FamilySize</th>\n",
              "      <th>NameTitle</th>\n",
              "      <th>Cabin</th>\n",
              "    </tr>\n",
              "  </thead>\n",
              "  <tbody>\n",
              "    <tr>\n",
              "      <th>811</th>\n",
              "      <td>3</td>\n",
              "      <td>male</td>\n",
              "      <td>39.0</td>\n",
              "      <td>24.1500</td>\n",
              "      <td>S</td>\n",
              "      <td>1</td>\n",
              "      <td>Mr</td>\n",
              "      <td>0</td>\n",
              "    </tr>\n",
              "    <tr>\n",
              "      <th>29</th>\n",
              "      <td>3</td>\n",
              "      <td>male</td>\n",
              "      <td>NaN</td>\n",
              "      <td>7.8958</td>\n",
              "      <td>S</td>\n",
              "      <td>1</td>\n",
              "      <td>Mr</td>\n",
              "      <td>0</td>\n",
              "    </tr>\n",
              "    <tr>\n",
              "      <th>49</th>\n",
              "      <td>3</td>\n",
              "      <td>female</td>\n",
              "      <td>18.0</td>\n",
              "      <td>17.8000</td>\n",
              "      <td>S</td>\n",
              "      <td>2</td>\n",
              "      <td>Mrs</td>\n",
              "      <td>0</td>\n",
              "    </tr>\n",
              "    <tr>\n",
              "      <th>105</th>\n",
              "      <td>3</td>\n",
              "      <td>male</td>\n",
              "      <td>28.0</td>\n",
              "      <td>7.8958</td>\n",
              "      <td>S</td>\n",
              "      <td>1</td>\n",
              "      <td>Mr</td>\n",
              "      <td>0</td>\n",
              "    </tr>\n",
              "    <tr>\n",
              "      <th>616</th>\n",
              "      <td>3</td>\n",
              "      <td>male</td>\n",
              "      <td>34.0</td>\n",
              "      <td>14.4000</td>\n",
              "      <td>S</td>\n",
              "      <td>3</td>\n",
              "      <td>Mr</td>\n",
              "      <td>0</td>\n",
              "    </tr>\n",
              "    <tr>\n",
              "      <th>...</th>\n",
              "      <td>...</td>\n",
              "      <td>...</td>\n",
              "      <td>...</td>\n",
              "      <td>...</td>\n",
              "      <td>...</td>\n",
              "      <td>...</td>\n",
              "      <td>...</td>\n",
              "      <td>...</td>\n",
              "    </tr>\n",
              "    <tr>\n",
              "      <th>218</th>\n",
              "      <td>1</td>\n",
              "      <td>female</td>\n",
              "      <td>32.0</td>\n",
              "      <td>76.2917</td>\n",
              "      <td>C</td>\n",
              "      <td>1</td>\n",
              "      <td>Miss</td>\n",
              "      <td>1</td>\n",
              "    </tr>\n",
              "    <tr>\n",
              "      <th>223</th>\n",
              "      <td>3</td>\n",
              "      <td>male</td>\n",
              "      <td>NaN</td>\n",
              "      <td>7.8958</td>\n",
              "      <td>S</td>\n",
              "      <td>1</td>\n",
              "      <td>Mr</td>\n",
              "      <td>0</td>\n",
              "    </tr>\n",
              "    <tr>\n",
              "      <th>271</th>\n",
              "      <td>3</td>\n",
              "      <td>male</td>\n",
              "      <td>25.0</td>\n",
              "      <td>0.0000</td>\n",
              "      <td>S</td>\n",
              "      <td>1</td>\n",
              "      <td>Mr</td>\n",
              "      <td>0</td>\n",
              "    </tr>\n",
              "    <tr>\n",
              "      <th>474</th>\n",
              "      <td>3</td>\n",
              "      <td>female</td>\n",
              "      <td>22.0</td>\n",
              "      <td>9.8375</td>\n",
              "      <td>S</td>\n",
              "      <td>1</td>\n",
              "      <td>Miss</td>\n",
              "      <td>0</td>\n",
              "    </tr>\n",
              "    <tr>\n",
              "      <th>355</th>\n",
              "      <td>3</td>\n",
              "      <td>male</td>\n",
              "      <td>28.0</td>\n",
              "      <td>9.5000</td>\n",
              "      <td>S</td>\n",
              "      <td>1</td>\n",
              "      <td>Mr</td>\n",
              "      <td>0</td>\n",
              "    </tr>\n",
              "  </tbody>\n",
              "</table>\n",
              "<p>712 rows × 8 columns</p>\n",
              "</div>\n",
              "      <button class=\"colab-df-convert\" onclick=\"convertToInteractive('df-d8c802e3-81f2-4562-9ca4-00ba6022aff3')\"\n",
              "              title=\"Convert this dataframe to an interactive table.\"\n",
              "              style=\"display:none;\">\n",
              "        \n",
              "  <svg xmlns=\"http://www.w3.org/2000/svg\" height=\"24px\"viewBox=\"0 0 24 24\"\n",
              "       width=\"24px\">\n",
              "    <path d=\"M0 0h24v24H0V0z\" fill=\"none\"/>\n",
              "    <path d=\"M18.56 5.44l.94 2.06.94-2.06 2.06-.94-2.06-.94-.94-2.06-.94 2.06-2.06.94zm-11 1L8.5 8.5l.94-2.06 2.06-.94-2.06-.94L8.5 2.5l-.94 2.06-2.06.94zm10 10l.94 2.06.94-2.06 2.06-.94-2.06-.94-.94-2.06-.94 2.06-2.06.94z\"/><path d=\"M17.41 7.96l-1.37-1.37c-.4-.4-.92-.59-1.43-.59-.52 0-1.04.2-1.43.59L10.3 9.45l-7.72 7.72c-.78.78-.78 2.05 0 2.83L4 21.41c.39.39.9.59 1.41.59.51 0 1.02-.2 1.41-.59l7.78-7.78 2.81-2.81c.8-.78.8-2.07 0-2.86zM5.41 20L4 18.59l7.72-7.72 1.47 1.35L5.41 20z\"/>\n",
              "  </svg>\n",
              "      </button>\n",
              "      \n",
              "  <style>\n",
              "    .colab-df-container {\n",
              "      display:flex;\n",
              "      flex-wrap:wrap;\n",
              "      gap: 12px;\n",
              "    }\n",
              "\n",
              "    .colab-df-convert {\n",
              "      background-color: #E8F0FE;\n",
              "      border: none;\n",
              "      border-radius: 50%;\n",
              "      cursor: pointer;\n",
              "      display: none;\n",
              "      fill: #1967D2;\n",
              "      height: 32px;\n",
              "      padding: 0 0 0 0;\n",
              "      width: 32px;\n",
              "    }\n",
              "\n",
              "    .colab-df-convert:hover {\n",
              "      background-color: #E2EBFA;\n",
              "      box-shadow: 0px 1px 2px rgba(60, 64, 67, 0.3), 0px 1px 3px 1px rgba(60, 64, 67, 0.15);\n",
              "      fill: #174EA6;\n",
              "    }\n",
              "\n",
              "    [theme=dark] .colab-df-convert {\n",
              "      background-color: #3B4455;\n",
              "      fill: #D2E3FC;\n",
              "    }\n",
              "\n",
              "    [theme=dark] .colab-df-convert:hover {\n",
              "      background-color: #434B5C;\n",
              "      box-shadow: 0px 1px 3px 1px rgba(0, 0, 0, 0.15);\n",
              "      filter: drop-shadow(0px 1px 2px rgba(0, 0, 0, 0.3));\n",
              "      fill: #FFFFFF;\n",
              "    }\n",
              "  </style>\n",
              "\n",
              "      <script>\n",
              "        const buttonEl =\n",
              "          document.querySelector('#df-d8c802e3-81f2-4562-9ca4-00ba6022aff3 button.colab-df-convert');\n",
              "        buttonEl.style.display =\n",
              "          google.colab.kernel.accessAllowed ? 'block' : 'none';\n",
              "\n",
              "        async function convertToInteractive(key) {\n",
              "          const element = document.querySelector('#df-d8c802e3-81f2-4562-9ca4-00ba6022aff3');\n",
              "          const dataTable =\n",
              "            await google.colab.kernel.invokeFunction('convertToInteractive',\n",
              "                                                     [key], {});\n",
              "          if (!dataTable) return;\n",
              "\n",
              "          const docLinkHtml = 'Like what you see? Visit the ' +\n",
              "            '<a target=\"_blank\" href=https://colab.research.google.com/notebooks/data_table.ipynb>data table notebook</a>'\n",
              "            + ' to learn more about interactive tables.';\n",
              "          element.innerHTML = '';\n",
              "          dataTable['output_type'] = 'display_data';\n",
              "          await google.colab.output.renderOutput(dataTable, element);\n",
              "          const docLink = document.createElement('div');\n",
              "          docLink.innerHTML = docLinkHtml;\n",
              "          element.appendChild(docLink);\n",
              "        }\n",
              "      </script>\n",
              "    </div>\n",
              "  </div>\n",
              "  "
            ]
          },
          "metadata": {},
          "execution_count": 133
        }
      ]
    },
    {
      "cell_type": "markdown",
      "source": [
        "**Creating transformer using ColumnTransformer for differentcoperation**"
      ],
      "metadata": {
        "id": "UsWrVUTS3SZE"
      }
    },
    {
      "cell_type": "markdown",
      "source": [
        "*ColumnTransformer for IMPUTATION*"
      ],
      "metadata": {
        "id": "l-u1-Cq_3SSS"
      }
    },
    {
      "cell_type": "code",
      "source": [
        "transformer1=ColumnTransformer([\n",
        "                          (\"Mean Imputation\",SimpleImputer(),[2]),\n",
        "                          (\"Most frequent imputation\",SimpleImputer(strategy=\"most_frequent\"),[4])\n",
        "],remainder=\"passthrough\") "
      ],
      "metadata": {
        "id": "yx6TvXHj63H1"
      },
      "execution_count": 116,
      "outputs": []
    },
    {
      "cell_type": "markdown",
      "source": [
        "*ColumnTransformer for FEATURE ENCODING*"
      ],
      "metadata": {
        "id": "9YbXBjdxpAif"
      }
    },
    {
      "cell_type": "code",
      "source": [
        "#Transformer for encoding\n",
        "transformer2 = ColumnTransformer([\n",
        "                                  (\"OHE\",OneHotEncoder(sparse=False),[1,3,6])                               \n",
        "],remainder=\"passthrough\")"
      ],
      "metadata": {
        "id": "99pUu5i18gaR"
      },
      "execution_count": 117,
      "outputs": []
    },
    {
      "cell_type": "markdown",
      "source": [
        "*Creating an instance FEATURE SCALING*"
      ],
      "metadata": {
        "id": "yI121X9FR4Kq"
      }
    },
    {
      "cell_type": "code",
      "source": [
        "#Creating instance for different Scaling techniques\n",
        "minmaxscaler = MinMaxScaler()"
      ],
      "metadata": {
        "id": "9cI5w2AjR9XR"
      },
      "execution_count": 118,
      "outputs": []
    },
    {
      "cell_type": "markdown",
      "source": [
        "MODEL FITTING WITH PIPE CREATION"
      ],
      "metadata": {
        "id": "5tNl7oZUpJC-"
      }
    },
    {
      "cell_type": "markdown",
      "source": [
        "*PIPELINE FOR DECISION TREE*"
      ],
      "metadata": {
        "id": "n9PK2qY7jpQj"
      }
    },
    {
      "cell_type": "code",
      "source": [
        "\n",
        "pipe1 = Pipeline([\n",
        "                 ('imputation',transformer1),\n",
        "                 (\"encoding\",transformer2),\n",
        "                 (\"StandardSCaler\",minmaxscaler),\n",
        "                 ('Feature selection',SelectKBest(k=3)),\n",
        "                 (\"model fitting\",DT)\n",
        "])\n",
        "pipe1.fit(X_train,y_train)\n",
        "y_pred1 = pipe1.predict(X_test)\n",
        "accuracy_score(y_test,y_pred1)"
      ],
      "metadata": {
        "id": "9_oRW78k9vSZ",
        "colab": {
          "base_uri": "https://localhost:8080/"
        },
        "outputId": "2bd49228-4672-4551-e290-53f0d5e46154"
      },
      "execution_count": 134,
      "outputs": [
        {
          "output_type": "execute_result",
          "data": {
            "text/plain": [
              "0.8324022346368715"
            ]
          },
          "metadata": {},
          "execution_count": 134
        }
      ]
    },
    {
      "cell_type": "code",
      "source": [
        "#To display pipeline visually\n",
        "pipe1.fit(X_train,y_train)"
      ],
      "metadata": {
        "id": "8Ojti8mbjl3S",
        "colab": {
          "base_uri": "https://localhost:8080/",
          "height": 363
        },
        "outputId": "f37e0323-7d13-43f8-d245-d239b2f78c33"
      },
      "execution_count": 120,
      "outputs": [
        {
          "output_type": "execute_result",
          "data": {
            "text/plain": [
              "Pipeline(steps=[('imputation',\n",
              "                 ColumnTransformer(remainder='passthrough',\n",
              "                                   transformers=[('Mean Imputation',\n",
              "                                                  SimpleImputer(), [2]),\n",
              "                                                 ('Most frequent imputation',\n",
              "                                                  SimpleImputer(strategy='most_frequent'),\n",
              "                                                  [4])])),\n",
              "                ('encoding',\n",
              "                 ColumnTransformer(remainder='passthrough',\n",
              "                                   transformers=[('OHE',\n",
              "                                                  OneHotEncoder(sparse=False),\n",
              "                                                  [1, 3, 6])])),\n",
              "                ('StandardSCaler', MinMaxScaler()),\n",
              "                ('Feature selection', SelectKBest(k=3)),\n",
              "                ('model fitting', DecisionTreeClassifier())])"
            ],
            "text/html": [
              "<style>#sk-25f50f0d-4237-48c0-933a-547d50b5c33d {color: black;background-color: white;}#sk-25f50f0d-4237-48c0-933a-547d50b5c33d pre{padding: 0;}#sk-25f50f0d-4237-48c0-933a-547d50b5c33d div.sk-toggleable {background-color: white;}#sk-25f50f0d-4237-48c0-933a-547d50b5c33d label.sk-toggleable__label {cursor: pointer;display: block;width: 100%;margin-bottom: 0;padding: 0.3em;box-sizing: border-box;text-align: center;}#sk-25f50f0d-4237-48c0-933a-547d50b5c33d label.sk-toggleable__label-arrow:before {content: \"▸\";float: left;margin-right: 0.25em;color: #696969;}#sk-25f50f0d-4237-48c0-933a-547d50b5c33d label.sk-toggleable__label-arrow:hover:before {color: black;}#sk-25f50f0d-4237-48c0-933a-547d50b5c33d div.sk-estimator:hover label.sk-toggleable__label-arrow:before {color: black;}#sk-25f50f0d-4237-48c0-933a-547d50b5c33d div.sk-toggleable__content {max-height: 0;max-width: 0;overflow: hidden;text-align: left;background-color: #f0f8ff;}#sk-25f50f0d-4237-48c0-933a-547d50b5c33d div.sk-toggleable__content pre {margin: 0.2em;color: black;border-radius: 0.25em;background-color: #f0f8ff;}#sk-25f50f0d-4237-48c0-933a-547d50b5c33d input.sk-toggleable__control:checked~div.sk-toggleable__content {max-height: 200px;max-width: 100%;overflow: auto;}#sk-25f50f0d-4237-48c0-933a-547d50b5c33d input.sk-toggleable__control:checked~label.sk-toggleable__label-arrow:before {content: \"▾\";}#sk-25f50f0d-4237-48c0-933a-547d50b5c33d div.sk-estimator input.sk-toggleable__control:checked~label.sk-toggleable__label {background-color: #d4ebff;}#sk-25f50f0d-4237-48c0-933a-547d50b5c33d div.sk-label input.sk-toggleable__control:checked~label.sk-toggleable__label {background-color: #d4ebff;}#sk-25f50f0d-4237-48c0-933a-547d50b5c33d input.sk-hidden--visually {border: 0;clip: rect(1px 1px 1px 1px);clip: rect(1px, 1px, 1px, 1px);height: 1px;margin: -1px;overflow: hidden;padding: 0;position: absolute;width: 1px;}#sk-25f50f0d-4237-48c0-933a-547d50b5c33d div.sk-estimator {font-family: monospace;background-color: #f0f8ff;border: 1px dotted black;border-radius: 0.25em;box-sizing: border-box;margin-bottom: 0.5em;}#sk-25f50f0d-4237-48c0-933a-547d50b5c33d div.sk-estimator:hover {background-color: #d4ebff;}#sk-25f50f0d-4237-48c0-933a-547d50b5c33d div.sk-parallel-item::after {content: \"\";width: 100%;border-bottom: 1px solid gray;flex-grow: 1;}#sk-25f50f0d-4237-48c0-933a-547d50b5c33d div.sk-label:hover label.sk-toggleable__label {background-color: #d4ebff;}#sk-25f50f0d-4237-48c0-933a-547d50b5c33d div.sk-serial::before {content: \"\";position: absolute;border-left: 1px solid gray;box-sizing: border-box;top: 2em;bottom: 0;left: 50%;}#sk-25f50f0d-4237-48c0-933a-547d50b5c33d div.sk-serial {display: flex;flex-direction: column;align-items: center;background-color: white;padding-right: 0.2em;padding-left: 0.2em;}#sk-25f50f0d-4237-48c0-933a-547d50b5c33d div.sk-item {z-index: 1;}#sk-25f50f0d-4237-48c0-933a-547d50b5c33d div.sk-parallel {display: flex;align-items: stretch;justify-content: center;background-color: white;}#sk-25f50f0d-4237-48c0-933a-547d50b5c33d div.sk-parallel::before {content: \"\";position: absolute;border-left: 1px solid gray;box-sizing: border-box;top: 2em;bottom: 0;left: 50%;}#sk-25f50f0d-4237-48c0-933a-547d50b5c33d div.sk-parallel-item {display: flex;flex-direction: column;position: relative;background-color: white;}#sk-25f50f0d-4237-48c0-933a-547d50b5c33d div.sk-parallel-item:first-child::after {align-self: flex-end;width: 50%;}#sk-25f50f0d-4237-48c0-933a-547d50b5c33d div.sk-parallel-item:last-child::after {align-self: flex-start;width: 50%;}#sk-25f50f0d-4237-48c0-933a-547d50b5c33d div.sk-parallel-item:only-child::after {width: 0;}#sk-25f50f0d-4237-48c0-933a-547d50b5c33d div.sk-dashed-wrapped {border: 1px dashed gray;margin: 0 0.4em 0.5em 0.4em;box-sizing: border-box;padding-bottom: 0.4em;background-color: white;position: relative;}#sk-25f50f0d-4237-48c0-933a-547d50b5c33d div.sk-label label {font-family: monospace;font-weight: bold;background-color: white;display: inline-block;line-height: 1.2em;}#sk-25f50f0d-4237-48c0-933a-547d50b5c33d div.sk-label-container {position: relative;z-index: 2;text-align: center;}#sk-25f50f0d-4237-48c0-933a-547d50b5c33d div.sk-container {/* jupyter's `normalize.less` sets `[hidden] { display: none; }` but bootstrap.min.css set `[hidden] { display: none !important; }` so we also need the `!important` here to be able to override the default hidden behavior on the sphinx rendered scikit-learn.org. See: https://github.com/scikit-learn/scikit-learn/issues/21755 */display: inline-block !important;position: relative;}#sk-25f50f0d-4237-48c0-933a-547d50b5c33d div.sk-text-repr-fallback {display: none;}</style><div id=\"sk-25f50f0d-4237-48c0-933a-547d50b5c33d\" class=\"sk-top-container\"><div class=\"sk-text-repr-fallback\"><pre>Pipeline(steps=[(&#x27;imputation&#x27;,\n",
              "                 ColumnTransformer(remainder=&#x27;passthrough&#x27;,\n",
              "                                   transformers=[(&#x27;Mean Imputation&#x27;,\n",
              "                                                  SimpleImputer(), [2]),\n",
              "                                                 (&#x27;Most frequent imputation&#x27;,\n",
              "                                                  SimpleImputer(strategy=&#x27;most_frequent&#x27;),\n",
              "                                                  [4])])),\n",
              "                (&#x27;encoding&#x27;,\n",
              "                 ColumnTransformer(remainder=&#x27;passthrough&#x27;,\n",
              "                                   transformers=[(&#x27;OHE&#x27;,\n",
              "                                                  OneHotEncoder(sparse=False),\n",
              "                                                  [1, 3, 6])])),\n",
              "                (&#x27;StandardSCaler&#x27;, MinMaxScaler()),\n",
              "                (&#x27;Feature selection&#x27;, SelectKBest(k=3)),\n",
              "                (&#x27;model fitting&#x27;, DecisionTreeClassifier())])</pre><b>Please rerun this cell to show the HTML repr or trust the notebook.</b></div><div class=\"sk-container\" hidden><div class=\"sk-item sk-dashed-wrapped\"><div class=\"sk-label-container\"><div class=\"sk-label sk-toggleable\"><input class=\"sk-toggleable__control sk-hidden--visually\" id=\"a7d2a7f7-9290-47da-a0ca-533f805f0454\" type=\"checkbox\" ><label for=\"a7d2a7f7-9290-47da-a0ca-533f805f0454\" class=\"sk-toggleable__label sk-toggleable__label-arrow\">Pipeline</label><div class=\"sk-toggleable__content\"><pre>Pipeline(steps=[(&#x27;imputation&#x27;,\n",
              "                 ColumnTransformer(remainder=&#x27;passthrough&#x27;,\n",
              "                                   transformers=[(&#x27;Mean Imputation&#x27;,\n",
              "                                                  SimpleImputer(), [2]),\n",
              "                                                 (&#x27;Most frequent imputation&#x27;,\n",
              "                                                  SimpleImputer(strategy=&#x27;most_frequent&#x27;),\n",
              "                                                  [4])])),\n",
              "                (&#x27;encoding&#x27;,\n",
              "                 ColumnTransformer(remainder=&#x27;passthrough&#x27;,\n",
              "                                   transformers=[(&#x27;OHE&#x27;,\n",
              "                                                  OneHotEncoder(sparse=False),\n",
              "                                                  [1, 3, 6])])),\n",
              "                (&#x27;StandardSCaler&#x27;, MinMaxScaler()),\n",
              "                (&#x27;Feature selection&#x27;, SelectKBest(k=3)),\n",
              "                (&#x27;model fitting&#x27;, DecisionTreeClassifier())])</pre></div></div></div><div class=\"sk-serial\"><div class=\"sk-item sk-dashed-wrapped\"><div class=\"sk-label-container\"><div class=\"sk-label sk-toggleable\"><input class=\"sk-toggleable__control sk-hidden--visually\" id=\"8b05eed2-3f36-42c0-9c88-51cd62e615e1\" type=\"checkbox\" ><label for=\"8b05eed2-3f36-42c0-9c88-51cd62e615e1\" class=\"sk-toggleable__label sk-toggleable__label-arrow\">imputation: ColumnTransformer</label><div class=\"sk-toggleable__content\"><pre>ColumnTransformer(remainder=&#x27;passthrough&#x27;,\n",
              "                  transformers=[(&#x27;Mean Imputation&#x27;, SimpleImputer(), [2]),\n",
              "                                (&#x27;Most frequent imputation&#x27;,\n",
              "                                 SimpleImputer(strategy=&#x27;most_frequent&#x27;),\n",
              "                                 [4])])</pre></div></div></div><div class=\"sk-parallel\"><div class=\"sk-parallel-item\"><div class=\"sk-item\"><div class=\"sk-label-container\"><div class=\"sk-label sk-toggleable\"><input class=\"sk-toggleable__control sk-hidden--visually\" id=\"b536a41f-eb6f-4a0e-8d67-9441e4d1934b\" type=\"checkbox\" ><label for=\"b536a41f-eb6f-4a0e-8d67-9441e4d1934b\" class=\"sk-toggleable__label sk-toggleable__label-arrow\">Mean Imputation</label><div class=\"sk-toggleable__content\"><pre>[2]</pre></div></div></div><div class=\"sk-serial\"><div class=\"sk-item\"><div class=\"sk-estimator sk-toggleable\"><input class=\"sk-toggleable__control sk-hidden--visually\" id=\"a329460e-2592-4f3f-b18a-878461aa329d\" type=\"checkbox\" ><label for=\"a329460e-2592-4f3f-b18a-878461aa329d\" class=\"sk-toggleable__label sk-toggleable__label-arrow\">SimpleImputer</label><div class=\"sk-toggleable__content\"><pre>SimpleImputer()</pre></div></div></div></div></div></div><div class=\"sk-parallel-item\"><div class=\"sk-item\"><div class=\"sk-label-container\"><div class=\"sk-label sk-toggleable\"><input class=\"sk-toggleable__control sk-hidden--visually\" id=\"7828898f-1d3f-44dc-877b-06a184b1b87b\" type=\"checkbox\" ><label for=\"7828898f-1d3f-44dc-877b-06a184b1b87b\" class=\"sk-toggleable__label sk-toggleable__label-arrow\">Most frequent imputation</label><div class=\"sk-toggleable__content\"><pre>[4]</pre></div></div></div><div class=\"sk-serial\"><div class=\"sk-item\"><div class=\"sk-estimator sk-toggleable\"><input class=\"sk-toggleable__control sk-hidden--visually\" id=\"8e27aac3-b5d6-44d4-882d-1d836562dfdc\" type=\"checkbox\" ><label for=\"8e27aac3-b5d6-44d4-882d-1d836562dfdc\" class=\"sk-toggleable__label sk-toggleable__label-arrow\">SimpleImputer</label><div class=\"sk-toggleable__content\"><pre>SimpleImputer(strategy=&#x27;most_frequent&#x27;)</pre></div></div></div></div></div></div><div class=\"sk-parallel-item\"><div class=\"sk-item\"><div class=\"sk-label-container\"><div class=\"sk-label sk-toggleable\"><input class=\"sk-toggleable__control sk-hidden--visually\" id=\"e8baaf04-ee66-4fd3-b040-5fa4917abc7b\" type=\"checkbox\" ><label for=\"e8baaf04-ee66-4fd3-b040-5fa4917abc7b\" class=\"sk-toggleable__label sk-toggleable__label-arrow\">remainder</label><div class=\"sk-toggleable__content\"><pre>[&#x27;Pclass&#x27;, &#x27;Sex&#x27;, &#x27;Fare&#x27;, &#x27;FamilySize&#x27;, &#x27;NameTitle&#x27;, &#x27;Cabin&#x27;]</pre></div></div></div><div class=\"sk-serial\"><div class=\"sk-item\"><div class=\"sk-estimator sk-toggleable\"><input class=\"sk-toggleable__control sk-hidden--visually\" id=\"63e3df64-4302-4dc5-9b0b-b4e9d3b9d948\" type=\"checkbox\" ><label for=\"63e3df64-4302-4dc5-9b0b-b4e9d3b9d948\" class=\"sk-toggleable__label sk-toggleable__label-arrow\">passthrough</label><div class=\"sk-toggleable__content\"><pre>passthrough</pre></div></div></div></div></div></div></div></div><div class=\"sk-item sk-dashed-wrapped\"><div class=\"sk-label-container\"><div class=\"sk-label sk-toggleable\"><input class=\"sk-toggleable__control sk-hidden--visually\" id=\"448465a0-9261-4442-b3c1-e4553a2e64bb\" type=\"checkbox\" ><label for=\"448465a0-9261-4442-b3c1-e4553a2e64bb\" class=\"sk-toggleable__label sk-toggleable__label-arrow\">encoding: ColumnTransformer</label><div class=\"sk-toggleable__content\"><pre>ColumnTransformer(remainder=&#x27;passthrough&#x27;,\n",
              "                  transformers=[(&#x27;OHE&#x27;, OneHotEncoder(sparse=False),\n",
              "                                 [1, 3, 6])])</pre></div></div></div><div class=\"sk-parallel\"><div class=\"sk-parallel-item\"><div class=\"sk-item\"><div class=\"sk-label-container\"><div class=\"sk-label sk-toggleable\"><input class=\"sk-toggleable__control sk-hidden--visually\" id=\"ba02756c-5513-4bab-9349-e1cab1d00286\" type=\"checkbox\" ><label for=\"ba02756c-5513-4bab-9349-e1cab1d00286\" class=\"sk-toggleable__label sk-toggleable__label-arrow\">OHE</label><div class=\"sk-toggleable__content\"><pre>[1, 3, 6]</pre></div></div></div><div class=\"sk-serial\"><div class=\"sk-item\"><div class=\"sk-estimator sk-toggleable\"><input class=\"sk-toggleable__control sk-hidden--visually\" id=\"39672fa0-3bf8-47e2-8ee2-6a70a22e062e\" type=\"checkbox\" ><label for=\"39672fa0-3bf8-47e2-8ee2-6a70a22e062e\" class=\"sk-toggleable__label sk-toggleable__label-arrow\">OneHotEncoder</label><div class=\"sk-toggleable__content\"><pre>OneHotEncoder(sparse=False)</pre></div></div></div></div></div></div><div class=\"sk-parallel-item\"><div class=\"sk-item\"><div class=\"sk-label-container\"><div class=\"sk-label sk-toggleable\"><input class=\"sk-toggleable__control sk-hidden--visually\" id=\"5ed8bdde-96dc-482c-b9ed-7847b57510b1\" type=\"checkbox\" ><label for=\"5ed8bdde-96dc-482c-b9ed-7847b57510b1\" class=\"sk-toggleable__label sk-toggleable__label-arrow\">remainder</label><div class=\"sk-toggleable__content\"><pre>[0, 2, 4, 5, 7]</pre></div></div></div><div class=\"sk-serial\"><div class=\"sk-item\"><div class=\"sk-estimator sk-toggleable\"><input class=\"sk-toggleable__control sk-hidden--visually\" id=\"02d20230-85a2-4f52-ac9d-894a46869f68\" type=\"checkbox\" ><label for=\"02d20230-85a2-4f52-ac9d-894a46869f68\" class=\"sk-toggleable__label sk-toggleable__label-arrow\">passthrough</label><div class=\"sk-toggleable__content\"><pre>passthrough</pre></div></div></div></div></div></div></div></div><div class=\"sk-item\"><div class=\"sk-estimator sk-toggleable\"><input class=\"sk-toggleable__control sk-hidden--visually\" id=\"7868e296-e8a5-4277-8fc7-ed9cf1206e8b\" type=\"checkbox\" ><label for=\"7868e296-e8a5-4277-8fc7-ed9cf1206e8b\" class=\"sk-toggleable__label sk-toggleable__label-arrow\">MinMaxScaler</label><div class=\"sk-toggleable__content\"><pre>MinMaxScaler()</pre></div></div></div><div class=\"sk-item\"><div class=\"sk-estimator sk-toggleable\"><input class=\"sk-toggleable__control sk-hidden--visually\" id=\"fc3e5440-b7ec-4cca-92b3-10e5e75b3791\" type=\"checkbox\" ><label for=\"fc3e5440-b7ec-4cca-92b3-10e5e75b3791\" class=\"sk-toggleable__label sk-toggleable__label-arrow\">SelectKBest</label><div class=\"sk-toggleable__content\"><pre>SelectKBest(k=3)</pre></div></div></div><div class=\"sk-item\"><div class=\"sk-estimator sk-toggleable\"><input class=\"sk-toggleable__control sk-hidden--visually\" id=\"9c2bc7be-20a2-4153-a403-bc5eb7f2513f\" type=\"checkbox\" ><label for=\"9c2bc7be-20a2-4153-a403-bc5eb7f2513f\" class=\"sk-toggleable__label sk-toggleable__label-arrow\">DecisionTreeClassifier</label><div class=\"sk-toggleable__content\"><pre>DecisionTreeClassifier()</pre></div></div></div></div></div></div></div>"
            ]
          },
          "metadata": {},
          "execution_count": 120
        }
      ]
    },
    {
      "cell_type": "markdown",
      "source": [
        "*PIPELINE FOR RANDOM FOREST*"
      ],
      "metadata": {
        "id": "wZ-ZIvCwjwkY"
      }
    },
    {
      "cell_type": "code",
      "source": [
        "#PIPELINE FOR RANDOM FOREST\n",
        "pipe2 = Pipeline([\n",
        "                 ('imputation',transformer1),\n",
        "                 (\"encoding\",transformer2),\n",
        "                 (\"Scaling\",minmaxscaler),\n",
        "                 ('Feature selection',SelectKBest(chi2,k=3)),\n",
        "                 (\"model fitting\",RF)\n",
        "])\n",
        "pipe2.fit(X_train,y_train)\n",
        "y_pred2 = pipe2.predict(X_test)\n",
        "accuracy_score(y_test,y_pred2)"
      ],
      "metadata": {
        "colab": {
          "base_uri": "https://localhost:8080/"
        },
        "id": "WQJ1Zm3mmc1U",
        "outputId": "99ff40ac-ea02-492a-f998-7caec511bf70"
      },
      "execution_count": 135,
      "outputs": [
        {
          "output_type": "execute_result",
          "data": {
            "text/plain": [
              "0.8324022346368715"
            ]
          },
          "metadata": {},
          "execution_count": 135
        }
      ]
    },
    {
      "cell_type": "code",
      "source": [
        "#To display pipeline visually\n",
        "pipe2.fit(X_train,y_train)"
      ],
      "metadata": {
        "id": "BlHaOticjTg0",
        "colab": {
          "base_uri": "https://localhost:8080/",
          "height": 363
        },
        "outputId": "84fd65eb-4e47-48c1-b037-5d43b8c39007"
      },
      "execution_count": 122,
      "outputs": [
        {
          "output_type": "execute_result",
          "data": {
            "text/plain": [
              "Pipeline(steps=[('imputation',\n",
              "                 ColumnTransformer(remainder='passthrough',\n",
              "                                   transformers=[('Mean Imputation',\n",
              "                                                  SimpleImputer(), [2]),\n",
              "                                                 ('Most frequent imputation',\n",
              "                                                  SimpleImputer(strategy='most_frequent'),\n",
              "                                                  [4])])),\n",
              "                ('encoding',\n",
              "                 ColumnTransformer(remainder='passthrough',\n",
              "                                   transformers=[('OHE',\n",
              "                                                  OneHotEncoder(sparse=False),\n",
              "                                                  [1, 3, 6])])),\n",
              "                ('Scaling', MinMaxScaler()),\n",
              "                ('Feature selection',\n",
              "                 SelectKBest(k=3,\n",
              "                             score_func=<function chi2 at 0x7ff7aefc6dd0>)),\n",
              "                ('model fitting', RandomForestClassifier())])"
            ],
            "text/html": [
              "<style>#sk-da1b911d-9785-42f8-90f5-d28aced1999d {color: black;background-color: white;}#sk-da1b911d-9785-42f8-90f5-d28aced1999d pre{padding: 0;}#sk-da1b911d-9785-42f8-90f5-d28aced1999d div.sk-toggleable {background-color: white;}#sk-da1b911d-9785-42f8-90f5-d28aced1999d label.sk-toggleable__label {cursor: pointer;display: block;width: 100%;margin-bottom: 0;padding: 0.3em;box-sizing: border-box;text-align: center;}#sk-da1b911d-9785-42f8-90f5-d28aced1999d label.sk-toggleable__label-arrow:before {content: \"▸\";float: left;margin-right: 0.25em;color: #696969;}#sk-da1b911d-9785-42f8-90f5-d28aced1999d label.sk-toggleable__label-arrow:hover:before {color: black;}#sk-da1b911d-9785-42f8-90f5-d28aced1999d div.sk-estimator:hover label.sk-toggleable__label-arrow:before {color: black;}#sk-da1b911d-9785-42f8-90f5-d28aced1999d div.sk-toggleable__content {max-height: 0;max-width: 0;overflow: hidden;text-align: left;background-color: #f0f8ff;}#sk-da1b911d-9785-42f8-90f5-d28aced1999d div.sk-toggleable__content pre {margin: 0.2em;color: black;border-radius: 0.25em;background-color: #f0f8ff;}#sk-da1b911d-9785-42f8-90f5-d28aced1999d input.sk-toggleable__control:checked~div.sk-toggleable__content {max-height: 200px;max-width: 100%;overflow: auto;}#sk-da1b911d-9785-42f8-90f5-d28aced1999d input.sk-toggleable__control:checked~label.sk-toggleable__label-arrow:before {content: \"▾\";}#sk-da1b911d-9785-42f8-90f5-d28aced1999d div.sk-estimator input.sk-toggleable__control:checked~label.sk-toggleable__label {background-color: #d4ebff;}#sk-da1b911d-9785-42f8-90f5-d28aced1999d div.sk-label input.sk-toggleable__control:checked~label.sk-toggleable__label {background-color: #d4ebff;}#sk-da1b911d-9785-42f8-90f5-d28aced1999d input.sk-hidden--visually {border: 0;clip: rect(1px 1px 1px 1px);clip: rect(1px, 1px, 1px, 1px);height: 1px;margin: -1px;overflow: hidden;padding: 0;position: absolute;width: 1px;}#sk-da1b911d-9785-42f8-90f5-d28aced1999d div.sk-estimator {font-family: monospace;background-color: #f0f8ff;border: 1px dotted black;border-radius: 0.25em;box-sizing: border-box;margin-bottom: 0.5em;}#sk-da1b911d-9785-42f8-90f5-d28aced1999d div.sk-estimator:hover {background-color: #d4ebff;}#sk-da1b911d-9785-42f8-90f5-d28aced1999d div.sk-parallel-item::after {content: \"\";width: 100%;border-bottom: 1px solid gray;flex-grow: 1;}#sk-da1b911d-9785-42f8-90f5-d28aced1999d div.sk-label:hover label.sk-toggleable__label {background-color: #d4ebff;}#sk-da1b911d-9785-42f8-90f5-d28aced1999d div.sk-serial::before {content: \"\";position: absolute;border-left: 1px solid gray;box-sizing: border-box;top: 2em;bottom: 0;left: 50%;}#sk-da1b911d-9785-42f8-90f5-d28aced1999d div.sk-serial {display: flex;flex-direction: column;align-items: center;background-color: white;padding-right: 0.2em;padding-left: 0.2em;}#sk-da1b911d-9785-42f8-90f5-d28aced1999d div.sk-item {z-index: 1;}#sk-da1b911d-9785-42f8-90f5-d28aced1999d div.sk-parallel {display: flex;align-items: stretch;justify-content: center;background-color: white;}#sk-da1b911d-9785-42f8-90f5-d28aced1999d div.sk-parallel::before {content: \"\";position: absolute;border-left: 1px solid gray;box-sizing: border-box;top: 2em;bottom: 0;left: 50%;}#sk-da1b911d-9785-42f8-90f5-d28aced1999d div.sk-parallel-item {display: flex;flex-direction: column;position: relative;background-color: white;}#sk-da1b911d-9785-42f8-90f5-d28aced1999d div.sk-parallel-item:first-child::after {align-self: flex-end;width: 50%;}#sk-da1b911d-9785-42f8-90f5-d28aced1999d div.sk-parallel-item:last-child::after {align-self: flex-start;width: 50%;}#sk-da1b911d-9785-42f8-90f5-d28aced1999d div.sk-parallel-item:only-child::after {width: 0;}#sk-da1b911d-9785-42f8-90f5-d28aced1999d div.sk-dashed-wrapped {border: 1px dashed gray;margin: 0 0.4em 0.5em 0.4em;box-sizing: border-box;padding-bottom: 0.4em;background-color: white;position: relative;}#sk-da1b911d-9785-42f8-90f5-d28aced1999d div.sk-label label {font-family: monospace;font-weight: bold;background-color: white;display: inline-block;line-height: 1.2em;}#sk-da1b911d-9785-42f8-90f5-d28aced1999d div.sk-label-container {position: relative;z-index: 2;text-align: center;}#sk-da1b911d-9785-42f8-90f5-d28aced1999d div.sk-container {/* jupyter's `normalize.less` sets `[hidden] { display: none; }` but bootstrap.min.css set `[hidden] { display: none !important; }` so we also need the `!important` here to be able to override the default hidden behavior on the sphinx rendered scikit-learn.org. See: https://github.com/scikit-learn/scikit-learn/issues/21755 */display: inline-block !important;position: relative;}#sk-da1b911d-9785-42f8-90f5-d28aced1999d div.sk-text-repr-fallback {display: none;}</style><div id=\"sk-da1b911d-9785-42f8-90f5-d28aced1999d\" class=\"sk-top-container\"><div class=\"sk-text-repr-fallback\"><pre>Pipeline(steps=[(&#x27;imputation&#x27;,\n",
              "                 ColumnTransformer(remainder=&#x27;passthrough&#x27;,\n",
              "                                   transformers=[(&#x27;Mean Imputation&#x27;,\n",
              "                                                  SimpleImputer(), [2]),\n",
              "                                                 (&#x27;Most frequent imputation&#x27;,\n",
              "                                                  SimpleImputer(strategy=&#x27;most_frequent&#x27;),\n",
              "                                                  [4])])),\n",
              "                (&#x27;encoding&#x27;,\n",
              "                 ColumnTransformer(remainder=&#x27;passthrough&#x27;,\n",
              "                                   transformers=[(&#x27;OHE&#x27;,\n",
              "                                                  OneHotEncoder(sparse=False),\n",
              "                                                  [1, 3, 6])])),\n",
              "                (&#x27;Scaling&#x27;, MinMaxScaler()),\n",
              "                (&#x27;Feature selection&#x27;,\n",
              "                 SelectKBest(k=3,\n",
              "                             score_func=&lt;function chi2 at 0x7ff7aefc6dd0&gt;)),\n",
              "                (&#x27;model fitting&#x27;, RandomForestClassifier())])</pre><b>Please rerun this cell to show the HTML repr or trust the notebook.</b></div><div class=\"sk-container\" hidden><div class=\"sk-item sk-dashed-wrapped\"><div class=\"sk-label-container\"><div class=\"sk-label sk-toggleable\"><input class=\"sk-toggleable__control sk-hidden--visually\" id=\"b6b887a2-903b-4792-9f45-e4c27130010e\" type=\"checkbox\" ><label for=\"b6b887a2-903b-4792-9f45-e4c27130010e\" class=\"sk-toggleable__label sk-toggleable__label-arrow\">Pipeline</label><div class=\"sk-toggleable__content\"><pre>Pipeline(steps=[(&#x27;imputation&#x27;,\n",
              "                 ColumnTransformer(remainder=&#x27;passthrough&#x27;,\n",
              "                                   transformers=[(&#x27;Mean Imputation&#x27;,\n",
              "                                                  SimpleImputer(), [2]),\n",
              "                                                 (&#x27;Most frequent imputation&#x27;,\n",
              "                                                  SimpleImputer(strategy=&#x27;most_frequent&#x27;),\n",
              "                                                  [4])])),\n",
              "                (&#x27;encoding&#x27;,\n",
              "                 ColumnTransformer(remainder=&#x27;passthrough&#x27;,\n",
              "                                   transformers=[(&#x27;OHE&#x27;,\n",
              "                                                  OneHotEncoder(sparse=False),\n",
              "                                                  [1, 3, 6])])),\n",
              "                (&#x27;Scaling&#x27;, MinMaxScaler()),\n",
              "                (&#x27;Feature selection&#x27;,\n",
              "                 SelectKBest(k=3,\n",
              "                             score_func=&lt;function chi2 at 0x7ff7aefc6dd0&gt;)),\n",
              "                (&#x27;model fitting&#x27;, RandomForestClassifier())])</pre></div></div></div><div class=\"sk-serial\"><div class=\"sk-item sk-dashed-wrapped\"><div class=\"sk-label-container\"><div class=\"sk-label sk-toggleable\"><input class=\"sk-toggleable__control sk-hidden--visually\" id=\"794d4c7f-1de6-49da-be33-fefa2854be16\" type=\"checkbox\" ><label for=\"794d4c7f-1de6-49da-be33-fefa2854be16\" class=\"sk-toggleable__label sk-toggleable__label-arrow\">imputation: ColumnTransformer</label><div class=\"sk-toggleable__content\"><pre>ColumnTransformer(remainder=&#x27;passthrough&#x27;,\n",
              "                  transformers=[(&#x27;Mean Imputation&#x27;, SimpleImputer(), [2]),\n",
              "                                (&#x27;Most frequent imputation&#x27;,\n",
              "                                 SimpleImputer(strategy=&#x27;most_frequent&#x27;),\n",
              "                                 [4])])</pre></div></div></div><div class=\"sk-parallel\"><div class=\"sk-parallel-item\"><div class=\"sk-item\"><div class=\"sk-label-container\"><div class=\"sk-label sk-toggleable\"><input class=\"sk-toggleable__control sk-hidden--visually\" id=\"5b6bef38-8cc4-456c-b8ce-55f6cf07d4e6\" type=\"checkbox\" ><label for=\"5b6bef38-8cc4-456c-b8ce-55f6cf07d4e6\" class=\"sk-toggleable__label sk-toggleable__label-arrow\">Mean Imputation</label><div class=\"sk-toggleable__content\"><pre>[2]</pre></div></div></div><div class=\"sk-serial\"><div class=\"sk-item\"><div class=\"sk-estimator sk-toggleable\"><input class=\"sk-toggleable__control sk-hidden--visually\" id=\"4c916c7b-90a2-4df4-9829-da4100f889b2\" type=\"checkbox\" ><label for=\"4c916c7b-90a2-4df4-9829-da4100f889b2\" class=\"sk-toggleable__label sk-toggleable__label-arrow\">SimpleImputer</label><div class=\"sk-toggleable__content\"><pre>SimpleImputer()</pre></div></div></div></div></div></div><div class=\"sk-parallel-item\"><div class=\"sk-item\"><div class=\"sk-label-container\"><div class=\"sk-label sk-toggleable\"><input class=\"sk-toggleable__control sk-hidden--visually\" id=\"c6d483ba-15e5-4a63-bf31-51ca76f19924\" type=\"checkbox\" ><label for=\"c6d483ba-15e5-4a63-bf31-51ca76f19924\" class=\"sk-toggleable__label sk-toggleable__label-arrow\">Most frequent imputation</label><div class=\"sk-toggleable__content\"><pre>[4]</pre></div></div></div><div class=\"sk-serial\"><div class=\"sk-item\"><div class=\"sk-estimator sk-toggleable\"><input class=\"sk-toggleable__control sk-hidden--visually\" id=\"2e5829c5-1d8d-4b2f-a17e-3ffc7090c3a3\" type=\"checkbox\" ><label for=\"2e5829c5-1d8d-4b2f-a17e-3ffc7090c3a3\" class=\"sk-toggleable__label sk-toggleable__label-arrow\">SimpleImputer</label><div class=\"sk-toggleable__content\"><pre>SimpleImputer(strategy=&#x27;most_frequent&#x27;)</pre></div></div></div></div></div></div><div class=\"sk-parallel-item\"><div class=\"sk-item\"><div class=\"sk-label-container\"><div class=\"sk-label sk-toggleable\"><input class=\"sk-toggleable__control sk-hidden--visually\" id=\"061b6ef2-5664-4618-8eae-b241b04bbbfa\" type=\"checkbox\" ><label for=\"061b6ef2-5664-4618-8eae-b241b04bbbfa\" class=\"sk-toggleable__label sk-toggleable__label-arrow\">remainder</label><div class=\"sk-toggleable__content\"><pre>[&#x27;Pclass&#x27;, &#x27;Sex&#x27;, &#x27;Fare&#x27;, &#x27;FamilySize&#x27;, &#x27;NameTitle&#x27;, &#x27;Cabin&#x27;]</pre></div></div></div><div class=\"sk-serial\"><div class=\"sk-item\"><div class=\"sk-estimator sk-toggleable\"><input class=\"sk-toggleable__control sk-hidden--visually\" id=\"f38f14e1-54e1-4916-b238-0e8c559da440\" type=\"checkbox\" ><label for=\"f38f14e1-54e1-4916-b238-0e8c559da440\" class=\"sk-toggleable__label sk-toggleable__label-arrow\">passthrough</label><div class=\"sk-toggleable__content\"><pre>passthrough</pre></div></div></div></div></div></div></div></div><div class=\"sk-item sk-dashed-wrapped\"><div class=\"sk-label-container\"><div class=\"sk-label sk-toggleable\"><input class=\"sk-toggleable__control sk-hidden--visually\" id=\"5c5efce3-6800-45ea-9efc-6bb047a14ce2\" type=\"checkbox\" ><label for=\"5c5efce3-6800-45ea-9efc-6bb047a14ce2\" class=\"sk-toggleable__label sk-toggleable__label-arrow\">encoding: ColumnTransformer</label><div class=\"sk-toggleable__content\"><pre>ColumnTransformer(remainder=&#x27;passthrough&#x27;,\n",
              "                  transformers=[(&#x27;OHE&#x27;, OneHotEncoder(sparse=False),\n",
              "                                 [1, 3, 6])])</pre></div></div></div><div class=\"sk-parallel\"><div class=\"sk-parallel-item\"><div class=\"sk-item\"><div class=\"sk-label-container\"><div class=\"sk-label sk-toggleable\"><input class=\"sk-toggleable__control sk-hidden--visually\" id=\"e83039df-3918-4f1a-8ad8-ed7126c9e1c9\" type=\"checkbox\" ><label for=\"e83039df-3918-4f1a-8ad8-ed7126c9e1c9\" class=\"sk-toggleable__label sk-toggleable__label-arrow\">OHE</label><div class=\"sk-toggleable__content\"><pre>[1, 3, 6]</pre></div></div></div><div class=\"sk-serial\"><div class=\"sk-item\"><div class=\"sk-estimator sk-toggleable\"><input class=\"sk-toggleable__control sk-hidden--visually\" id=\"6ecbb468-38c5-4c12-9ea3-c0eebfeea557\" type=\"checkbox\" ><label for=\"6ecbb468-38c5-4c12-9ea3-c0eebfeea557\" class=\"sk-toggleable__label sk-toggleable__label-arrow\">OneHotEncoder</label><div class=\"sk-toggleable__content\"><pre>OneHotEncoder(sparse=False)</pre></div></div></div></div></div></div><div class=\"sk-parallel-item\"><div class=\"sk-item\"><div class=\"sk-label-container\"><div class=\"sk-label sk-toggleable\"><input class=\"sk-toggleable__control sk-hidden--visually\" id=\"8b0c43be-3dc4-4a78-b6c5-08c21fa05ad7\" type=\"checkbox\" ><label for=\"8b0c43be-3dc4-4a78-b6c5-08c21fa05ad7\" class=\"sk-toggleable__label sk-toggleable__label-arrow\">remainder</label><div class=\"sk-toggleable__content\"><pre>[0, 2, 4, 5, 7]</pre></div></div></div><div class=\"sk-serial\"><div class=\"sk-item\"><div class=\"sk-estimator sk-toggleable\"><input class=\"sk-toggleable__control sk-hidden--visually\" id=\"e560f8f9-1c9b-4406-b2cf-8554491b25c2\" type=\"checkbox\" ><label for=\"e560f8f9-1c9b-4406-b2cf-8554491b25c2\" class=\"sk-toggleable__label sk-toggleable__label-arrow\">passthrough</label><div class=\"sk-toggleable__content\"><pre>passthrough</pre></div></div></div></div></div></div></div></div><div class=\"sk-item\"><div class=\"sk-estimator sk-toggleable\"><input class=\"sk-toggleable__control sk-hidden--visually\" id=\"d6aab08d-fb82-4149-9a86-0f0dc81ef57d\" type=\"checkbox\" ><label for=\"d6aab08d-fb82-4149-9a86-0f0dc81ef57d\" class=\"sk-toggleable__label sk-toggleable__label-arrow\">MinMaxScaler</label><div class=\"sk-toggleable__content\"><pre>MinMaxScaler()</pre></div></div></div><div class=\"sk-item\"><div class=\"sk-estimator sk-toggleable\"><input class=\"sk-toggleable__control sk-hidden--visually\" id=\"e30f7d7b-d700-4c96-acfa-3cb1f5a39186\" type=\"checkbox\" ><label for=\"e30f7d7b-d700-4c96-acfa-3cb1f5a39186\" class=\"sk-toggleable__label sk-toggleable__label-arrow\">SelectKBest</label><div class=\"sk-toggleable__content\"><pre>SelectKBest(k=3, score_func=&lt;function chi2 at 0x7ff7aefc6dd0&gt;)</pre></div></div></div><div class=\"sk-item\"><div class=\"sk-estimator sk-toggleable\"><input class=\"sk-toggleable__control sk-hidden--visually\" id=\"e3a5a702-8c96-4419-b4d6-fab4f99fe221\" type=\"checkbox\" ><label for=\"e3a5a702-8c96-4419-b4d6-fab4f99fe221\" class=\"sk-toggleable__label sk-toggleable__label-arrow\">RandomForestClassifier</label><div class=\"sk-toggleable__content\"><pre>RandomForestClassifier()</pre></div></div></div></div></div></div></div>"
            ]
          },
          "metadata": {},
          "execution_count": 122
        }
      ]
    },
    {
      "cell_type": "markdown",
      "source": [
        "*PIPELINE FOR LOGISTIC REGRESSION*"
      ],
      "metadata": {
        "id": "TWCs4gxWj7CS"
      }
    },
    {
      "cell_type": "code",
      "source": [
        "#PIPELINE FOR LOGISTIC REGRESSION\n",
        "pipe3 = Pipeline([\n",
        "                 ('imputation',transformer1),\n",
        "                 (\"encoding\",transformer2),\n",
        "                 (\"Scaling\",minmaxscaler),\n",
        "                # ('Feature selection',SelectKBest(chi2,k=5)),\n",
        "                 (\"model fitting\",LR)\n",
        "])\n",
        "pipe3.fit(X_train,y_train)\n",
        "y_pred3 = pipe3.predict(X_test)\n",
        "accuracy_score(y_test,y_pred3)"
      ],
      "metadata": {
        "id": "UqHFmta9nw2q",
        "colab": {
          "base_uri": "https://localhost:8080/"
        },
        "outputId": "c63174e4-0e28-458c-f8d2-917de1e871ce"
      },
      "execution_count": 136,
      "outputs": [
        {
          "output_type": "execute_result",
          "data": {
            "text/plain": [
              "0.888268156424581"
            ]
          },
          "metadata": {},
          "execution_count": 136
        }
      ]
    },
    {
      "cell_type": "code",
      "source": [
        "#To display pipeline visually\n",
        "pipe3.fit(X_train,y_train)"
      ],
      "metadata": {
        "id": "1MI62Pd2jFyd",
        "colab": {
          "base_uri": "https://localhost:8080/",
          "height": 328
        },
        "outputId": "5c4cfc23-25fa-4353-89d9-ebbdee6d47e9"
      },
      "execution_count": 124,
      "outputs": [
        {
          "output_type": "execute_result",
          "data": {
            "text/plain": [
              "Pipeline(steps=[('imputation',\n",
              "                 ColumnTransformer(remainder='passthrough',\n",
              "                                   transformers=[('Mean Imputation',\n",
              "                                                  SimpleImputer(), [2]),\n",
              "                                                 ('Most frequent imputation',\n",
              "                                                  SimpleImputer(strategy='most_frequent'),\n",
              "                                                  [4])])),\n",
              "                ('encoding',\n",
              "                 ColumnTransformer(remainder='passthrough',\n",
              "                                   transformers=[('OHE',\n",
              "                                                  OneHotEncoder(sparse=False),\n",
              "                                                  [1, 3, 6])])),\n",
              "                ('Scaling', MinMaxScaler()),\n",
              "                ('model fitting', LogisticRegression())])"
            ],
            "text/html": [
              "<style>#sk-51f2b77a-5f2b-47f2-9784-85283b3889b1 {color: black;background-color: white;}#sk-51f2b77a-5f2b-47f2-9784-85283b3889b1 pre{padding: 0;}#sk-51f2b77a-5f2b-47f2-9784-85283b3889b1 div.sk-toggleable {background-color: white;}#sk-51f2b77a-5f2b-47f2-9784-85283b3889b1 label.sk-toggleable__label {cursor: pointer;display: block;width: 100%;margin-bottom: 0;padding: 0.3em;box-sizing: border-box;text-align: center;}#sk-51f2b77a-5f2b-47f2-9784-85283b3889b1 label.sk-toggleable__label-arrow:before {content: \"▸\";float: left;margin-right: 0.25em;color: #696969;}#sk-51f2b77a-5f2b-47f2-9784-85283b3889b1 label.sk-toggleable__label-arrow:hover:before {color: black;}#sk-51f2b77a-5f2b-47f2-9784-85283b3889b1 div.sk-estimator:hover label.sk-toggleable__label-arrow:before {color: black;}#sk-51f2b77a-5f2b-47f2-9784-85283b3889b1 div.sk-toggleable__content {max-height: 0;max-width: 0;overflow: hidden;text-align: left;background-color: #f0f8ff;}#sk-51f2b77a-5f2b-47f2-9784-85283b3889b1 div.sk-toggleable__content pre {margin: 0.2em;color: black;border-radius: 0.25em;background-color: #f0f8ff;}#sk-51f2b77a-5f2b-47f2-9784-85283b3889b1 input.sk-toggleable__control:checked~div.sk-toggleable__content {max-height: 200px;max-width: 100%;overflow: auto;}#sk-51f2b77a-5f2b-47f2-9784-85283b3889b1 input.sk-toggleable__control:checked~label.sk-toggleable__label-arrow:before {content: \"▾\";}#sk-51f2b77a-5f2b-47f2-9784-85283b3889b1 div.sk-estimator input.sk-toggleable__control:checked~label.sk-toggleable__label {background-color: #d4ebff;}#sk-51f2b77a-5f2b-47f2-9784-85283b3889b1 div.sk-label input.sk-toggleable__control:checked~label.sk-toggleable__label {background-color: #d4ebff;}#sk-51f2b77a-5f2b-47f2-9784-85283b3889b1 input.sk-hidden--visually {border: 0;clip: rect(1px 1px 1px 1px);clip: rect(1px, 1px, 1px, 1px);height: 1px;margin: -1px;overflow: hidden;padding: 0;position: absolute;width: 1px;}#sk-51f2b77a-5f2b-47f2-9784-85283b3889b1 div.sk-estimator {font-family: monospace;background-color: #f0f8ff;border: 1px dotted black;border-radius: 0.25em;box-sizing: border-box;margin-bottom: 0.5em;}#sk-51f2b77a-5f2b-47f2-9784-85283b3889b1 div.sk-estimator:hover {background-color: #d4ebff;}#sk-51f2b77a-5f2b-47f2-9784-85283b3889b1 div.sk-parallel-item::after {content: \"\";width: 100%;border-bottom: 1px solid gray;flex-grow: 1;}#sk-51f2b77a-5f2b-47f2-9784-85283b3889b1 div.sk-label:hover label.sk-toggleable__label {background-color: #d4ebff;}#sk-51f2b77a-5f2b-47f2-9784-85283b3889b1 div.sk-serial::before {content: \"\";position: absolute;border-left: 1px solid gray;box-sizing: border-box;top: 2em;bottom: 0;left: 50%;}#sk-51f2b77a-5f2b-47f2-9784-85283b3889b1 div.sk-serial {display: flex;flex-direction: column;align-items: center;background-color: white;padding-right: 0.2em;padding-left: 0.2em;}#sk-51f2b77a-5f2b-47f2-9784-85283b3889b1 div.sk-item {z-index: 1;}#sk-51f2b77a-5f2b-47f2-9784-85283b3889b1 div.sk-parallel {display: flex;align-items: stretch;justify-content: center;background-color: white;}#sk-51f2b77a-5f2b-47f2-9784-85283b3889b1 div.sk-parallel::before {content: \"\";position: absolute;border-left: 1px solid gray;box-sizing: border-box;top: 2em;bottom: 0;left: 50%;}#sk-51f2b77a-5f2b-47f2-9784-85283b3889b1 div.sk-parallel-item {display: flex;flex-direction: column;position: relative;background-color: white;}#sk-51f2b77a-5f2b-47f2-9784-85283b3889b1 div.sk-parallel-item:first-child::after {align-self: flex-end;width: 50%;}#sk-51f2b77a-5f2b-47f2-9784-85283b3889b1 div.sk-parallel-item:last-child::after {align-self: flex-start;width: 50%;}#sk-51f2b77a-5f2b-47f2-9784-85283b3889b1 div.sk-parallel-item:only-child::after {width: 0;}#sk-51f2b77a-5f2b-47f2-9784-85283b3889b1 div.sk-dashed-wrapped {border: 1px dashed gray;margin: 0 0.4em 0.5em 0.4em;box-sizing: border-box;padding-bottom: 0.4em;background-color: white;position: relative;}#sk-51f2b77a-5f2b-47f2-9784-85283b3889b1 div.sk-label label {font-family: monospace;font-weight: bold;background-color: white;display: inline-block;line-height: 1.2em;}#sk-51f2b77a-5f2b-47f2-9784-85283b3889b1 div.sk-label-container {position: relative;z-index: 2;text-align: center;}#sk-51f2b77a-5f2b-47f2-9784-85283b3889b1 div.sk-container {/* jupyter's `normalize.less` sets `[hidden] { display: none; }` but bootstrap.min.css set `[hidden] { display: none !important; }` so we also need the `!important` here to be able to override the default hidden behavior on the sphinx rendered scikit-learn.org. See: https://github.com/scikit-learn/scikit-learn/issues/21755 */display: inline-block !important;position: relative;}#sk-51f2b77a-5f2b-47f2-9784-85283b3889b1 div.sk-text-repr-fallback {display: none;}</style><div id=\"sk-51f2b77a-5f2b-47f2-9784-85283b3889b1\" class=\"sk-top-container\"><div class=\"sk-text-repr-fallback\"><pre>Pipeline(steps=[(&#x27;imputation&#x27;,\n",
              "                 ColumnTransformer(remainder=&#x27;passthrough&#x27;,\n",
              "                                   transformers=[(&#x27;Mean Imputation&#x27;,\n",
              "                                                  SimpleImputer(), [2]),\n",
              "                                                 (&#x27;Most frequent imputation&#x27;,\n",
              "                                                  SimpleImputer(strategy=&#x27;most_frequent&#x27;),\n",
              "                                                  [4])])),\n",
              "                (&#x27;encoding&#x27;,\n",
              "                 ColumnTransformer(remainder=&#x27;passthrough&#x27;,\n",
              "                                   transformers=[(&#x27;OHE&#x27;,\n",
              "                                                  OneHotEncoder(sparse=False),\n",
              "                                                  [1, 3, 6])])),\n",
              "                (&#x27;Scaling&#x27;, MinMaxScaler()),\n",
              "                (&#x27;model fitting&#x27;, LogisticRegression())])</pre><b>Please rerun this cell to show the HTML repr or trust the notebook.</b></div><div class=\"sk-container\" hidden><div class=\"sk-item sk-dashed-wrapped\"><div class=\"sk-label-container\"><div class=\"sk-label sk-toggleable\"><input class=\"sk-toggleable__control sk-hidden--visually\" id=\"ea451e5e-c558-4217-87b1-a1861102c7b0\" type=\"checkbox\" ><label for=\"ea451e5e-c558-4217-87b1-a1861102c7b0\" class=\"sk-toggleable__label sk-toggleable__label-arrow\">Pipeline</label><div class=\"sk-toggleable__content\"><pre>Pipeline(steps=[(&#x27;imputation&#x27;,\n",
              "                 ColumnTransformer(remainder=&#x27;passthrough&#x27;,\n",
              "                                   transformers=[(&#x27;Mean Imputation&#x27;,\n",
              "                                                  SimpleImputer(), [2]),\n",
              "                                                 (&#x27;Most frequent imputation&#x27;,\n",
              "                                                  SimpleImputer(strategy=&#x27;most_frequent&#x27;),\n",
              "                                                  [4])])),\n",
              "                (&#x27;encoding&#x27;,\n",
              "                 ColumnTransformer(remainder=&#x27;passthrough&#x27;,\n",
              "                                   transformers=[(&#x27;OHE&#x27;,\n",
              "                                                  OneHotEncoder(sparse=False),\n",
              "                                                  [1, 3, 6])])),\n",
              "                (&#x27;Scaling&#x27;, MinMaxScaler()),\n",
              "                (&#x27;model fitting&#x27;, LogisticRegression())])</pre></div></div></div><div class=\"sk-serial\"><div class=\"sk-item sk-dashed-wrapped\"><div class=\"sk-label-container\"><div class=\"sk-label sk-toggleable\"><input class=\"sk-toggleable__control sk-hidden--visually\" id=\"1ce97fc2-1c86-4394-9ab4-2334f469f83f\" type=\"checkbox\" ><label for=\"1ce97fc2-1c86-4394-9ab4-2334f469f83f\" class=\"sk-toggleable__label sk-toggleable__label-arrow\">imputation: ColumnTransformer</label><div class=\"sk-toggleable__content\"><pre>ColumnTransformer(remainder=&#x27;passthrough&#x27;,\n",
              "                  transformers=[(&#x27;Mean Imputation&#x27;, SimpleImputer(), [2]),\n",
              "                                (&#x27;Most frequent imputation&#x27;,\n",
              "                                 SimpleImputer(strategy=&#x27;most_frequent&#x27;),\n",
              "                                 [4])])</pre></div></div></div><div class=\"sk-parallel\"><div class=\"sk-parallel-item\"><div class=\"sk-item\"><div class=\"sk-label-container\"><div class=\"sk-label sk-toggleable\"><input class=\"sk-toggleable__control sk-hidden--visually\" id=\"0f22272d-b116-4b75-b26f-618cd054b6d1\" type=\"checkbox\" ><label for=\"0f22272d-b116-4b75-b26f-618cd054b6d1\" class=\"sk-toggleable__label sk-toggleable__label-arrow\">Mean Imputation</label><div class=\"sk-toggleable__content\"><pre>[2]</pre></div></div></div><div class=\"sk-serial\"><div class=\"sk-item\"><div class=\"sk-estimator sk-toggleable\"><input class=\"sk-toggleable__control sk-hidden--visually\" id=\"2909e915-89fc-40eb-80df-17f133a54b0c\" type=\"checkbox\" ><label for=\"2909e915-89fc-40eb-80df-17f133a54b0c\" class=\"sk-toggleable__label sk-toggleable__label-arrow\">SimpleImputer</label><div class=\"sk-toggleable__content\"><pre>SimpleImputer()</pre></div></div></div></div></div></div><div class=\"sk-parallel-item\"><div class=\"sk-item\"><div class=\"sk-label-container\"><div class=\"sk-label sk-toggleable\"><input class=\"sk-toggleable__control sk-hidden--visually\" id=\"8427aee5-ee0b-4e77-b9d3-aaaa524a638c\" type=\"checkbox\" ><label for=\"8427aee5-ee0b-4e77-b9d3-aaaa524a638c\" class=\"sk-toggleable__label sk-toggleable__label-arrow\">Most frequent imputation</label><div class=\"sk-toggleable__content\"><pre>[4]</pre></div></div></div><div class=\"sk-serial\"><div class=\"sk-item\"><div class=\"sk-estimator sk-toggleable\"><input class=\"sk-toggleable__control sk-hidden--visually\" id=\"92934258-2427-476b-b953-f1e71c3d40e3\" type=\"checkbox\" ><label for=\"92934258-2427-476b-b953-f1e71c3d40e3\" class=\"sk-toggleable__label sk-toggleable__label-arrow\">SimpleImputer</label><div class=\"sk-toggleable__content\"><pre>SimpleImputer(strategy=&#x27;most_frequent&#x27;)</pre></div></div></div></div></div></div><div class=\"sk-parallel-item\"><div class=\"sk-item\"><div class=\"sk-label-container\"><div class=\"sk-label sk-toggleable\"><input class=\"sk-toggleable__control sk-hidden--visually\" id=\"f1b9dbfd-a41b-4aec-a328-6c22b1d37145\" type=\"checkbox\" ><label for=\"f1b9dbfd-a41b-4aec-a328-6c22b1d37145\" class=\"sk-toggleable__label sk-toggleable__label-arrow\">remainder</label><div class=\"sk-toggleable__content\"><pre>[&#x27;Pclass&#x27;, &#x27;Sex&#x27;, &#x27;Fare&#x27;, &#x27;FamilySize&#x27;, &#x27;NameTitle&#x27;, &#x27;Cabin&#x27;]</pre></div></div></div><div class=\"sk-serial\"><div class=\"sk-item\"><div class=\"sk-estimator sk-toggleable\"><input class=\"sk-toggleable__control sk-hidden--visually\" id=\"cca5d350-0e6f-47c5-8f08-2fe4794f4553\" type=\"checkbox\" ><label for=\"cca5d350-0e6f-47c5-8f08-2fe4794f4553\" class=\"sk-toggleable__label sk-toggleable__label-arrow\">passthrough</label><div class=\"sk-toggleable__content\"><pre>passthrough</pre></div></div></div></div></div></div></div></div><div class=\"sk-item sk-dashed-wrapped\"><div class=\"sk-label-container\"><div class=\"sk-label sk-toggleable\"><input class=\"sk-toggleable__control sk-hidden--visually\" id=\"2a1b9efa-9378-47ac-80d2-cffead3f65d0\" type=\"checkbox\" ><label for=\"2a1b9efa-9378-47ac-80d2-cffead3f65d0\" class=\"sk-toggleable__label sk-toggleable__label-arrow\">encoding: ColumnTransformer</label><div class=\"sk-toggleable__content\"><pre>ColumnTransformer(remainder=&#x27;passthrough&#x27;,\n",
              "                  transformers=[(&#x27;OHE&#x27;, OneHotEncoder(sparse=False),\n",
              "                                 [1, 3, 6])])</pre></div></div></div><div class=\"sk-parallel\"><div class=\"sk-parallel-item\"><div class=\"sk-item\"><div class=\"sk-label-container\"><div class=\"sk-label sk-toggleable\"><input class=\"sk-toggleable__control sk-hidden--visually\" id=\"ec1bcc17-fb91-4df0-aa8f-bef0b5b46d60\" type=\"checkbox\" ><label for=\"ec1bcc17-fb91-4df0-aa8f-bef0b5b46d60\" class=\"sk-toggleable__label sk-toggleable__label-arrow\">OHE</label><div class=\"sk-toggleable__content\"><pre>[1, 3, 6]</pre></div></div></div><div class=\"sk-serial\"><div class=\"sk-item\"><div class=\"sk-estimator sk-toggleable\"><input class=\"sk-toggleable__control sk-hidden--visually\" id=\"99fd2e66-65dc-4214-b649-b4bbd659adfe\" type=\"checkbox\" ><label for=\"99fd2e66-65dc-4214-b649-b4bbd659adfe\" class=\"sk-toggleable__label sk-toggleable__label-arrow\">OneHotEncoder</label><div class=\"sk-toggleable__content\"><pre>OneHotEncoder(sparse=False)</pre></div></div></div></div></div></div><div class=\"sk-parallel-item\"><div class=\"sk-item\"><div class=\"sk-label-container\"><div class=\"sk-label sk-toggleable\"><input class=\"sk-toggleable__control sk-hidden--visually\" id=\"dcdd8d40-8204-4d75-a357-0067fac50b71\" type=\"checkbox\" ><label for=\"dcdd8d40-8204-4d75-a357-0067fac50b71\" class=\"sk-toggleable__label sk-toggleable__label-arrow\">remainder</label><div class=\"sk-toggleable__content\"><pre>[0, 2, 4, 5, 7]</pre></div></div></div><div class=\"sk-serial\"><div class=\"sk-item\"><div class=\"sk-estimator sk-toggleable\"><input class=\"sk-toggleable__control sk-hidden--visually\" id=\"33e20d0b-8694-4ad3-9c20-a3416ca62075\" type=\"checkbox\" ><label for=\"33e20d0b-8694-4ad3-9c20-a3416ca62075\" class=\"sk-toggleable__label sk-toggleable__label-arrow\">passthrough</label><div class=\"sk-toggleable__content\"><pre>passthrough</pre></div></div></div></div></div></div></div></div><div class=\"sk-item\"><div class=\"sk-estimator sk-toggleable\"><input class=\"sk-toggleable__control sk-hidden--visually\" id=\"ef4c0f49-6884-474d-8f46-494972d54232\" type=\"checkbox\" ><label for=\"ef4c0f49-6884-474d-8f46-494972d54232\" class=\"sk-toggleable__label sk-toggleable__label-arrow\">MinMaxScaler</label><div class=\"sk-toggleable__content\"><pre>MinMaxScaler()</pre></div></div></div><div class=\"sk-item\"><div class=\"sk-estimator sk-toggleable\"><input class=\"sk-toggleable__control sk-hidden--visually\" id=\"ac247f68-8771-40eb-8c8d-5293349b5b70\" type=\"checkbox\" ><label for=\"ac247f68-8771-40eb-8c8d-5293349b5b70\" class=\"sk-toggleable__label sk-toggleable__label-arrow\">LogisticRegression</label><div class=\"sk-toggleable__content\"><pre>LogisticRegression()</pre></div></div></div></div></div></div></div>"
            ]
          },
          "metadata": {},
          "execution_count": 124
        }
      ]
    },
    {
      "cell_type": "markdown",
      "source": [
        "**Sumission dataframe creation**"
      ],
      "metadata": {
        "id": "aTSiQY4kN_el"
      }
    },
    {
      "cell_type": "markdown",
      "source": [
        "Decision Tree Model"
      ],
      "metadata": {
        "id": "Yj_y1LCSVcdi"
      }
    },
    {
      "cell_type": "code",
      "source": [
        "pipe1.fit(train2.drop(columns=[\"Survived\"]),train2[\"Survived\"])\n",
        "final_predict = pipe1.predict(test2)\n",
        "subdata = pd.DataFrame()\n",
        "subdata[\"PassengerId\"] = passengerId\n",
        "subdata[\"Survived\"] = final_predict\n",
        "subdata.to_csv(\"submission_DT.csv\",index=False)"
      ],
      "metadata": {
        "id": "ooiEwPMLLcF_"
      },
      "execution_count": null,
      "outputs": []
    },
    {
      "cell_type": "markdown",
      "source": [
        "Random Forest Model"
      ],
      "metadata": {
        "id": "YXU6iqNfVz10"
      }
    },
    {
      "cell_type": "code",
      "source": [
        "pipe2.fit(train2.drop(columns=[\"Survived\"]),train2[\"Survived\"])\n",
        "final_predict = pipe2.predict(test2)\n",
        "subdata = pd.DataFrame()\n",
        "subdata[\"PassengerId\"] = passengerId\n",
        "subdata[\"Survived\"] = final_predict\n",
        "subdata.to_csv(\"submission_RF.csv\",index=False)"
      ],
      "metadata": {
        "id": "FLoBTufsVhbO"
      },
      "execution_count": null,
      "outputs": []
    },
    {
      "cell_type": "markdown",
      "source": [
        "Logistic Regression Model"
      ],
      "metadata": {
        "id": "EsrsjZHKV3lp"
      }
    },
    {
      "cell_type": "code",
      "source": [
        "pipe3.fit(train2.drop(columns=[\"Survived\"]),train2[\"Survived\"])\n",
        "final_predict = pipe2.predict(test2)\n",
        "subdata = pd.DataFrame()\n",
        "subdata[\"PassengerId\"] = passengerId\n",
        "subdata[\"Survived\"] = final_predict\n",
        "subdata.to_csv(\"submission_LR.csv\",index=False)"
      ],
      "metadata": {
        "id": "o31YuQrdVvEU"
      },
      "execution_count": 138,
      "outputs": []
    }
  ]
}